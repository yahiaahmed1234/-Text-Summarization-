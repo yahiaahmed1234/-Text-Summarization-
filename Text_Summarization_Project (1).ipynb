{
  "nbformat": 4,
  "nbformat_minor": 0,
  "metadata": {
    "colab": {
      "provenance": []
    },
    "kernelspec": {
      "name": "python3",
      "display_name": "Python 3"
    },
    "language_info": {
      "name": "python"
    }
  },
  "cells": [
    {
      "cell_type": "markdown",
      "source": [
        "# **This Project about \"Text Summarization\"**\n",
        "\n",
        "---\n",
        "\n",
        "\n",
        "\n",
        "### --> The team; just one member in it: **Yahia Ahmed Yahia Elazab.**\n",
        "### --> Study **Mechnical** engineering at **AinShams** University.\n"
      ],
      "metadata": {
        "id": "Xpj2u9drxDwR"
      }
    },
    {
      "cell_type": "markdown",
      "source": [
        "![images.jpg](data:image/jpeg;base64,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)"
      ],
      "metadata": {
        "id": "aBW-b9lVzWOh"
      }
    },
    {
      "cell_type": "markdown",
      "source": [
        "# Steps:\n",
        "\n",
        "\n",
        "## 1.   First I Enter the text.     ---> Search for Data\n",
        "\n"
      ],
      "metadata": {
        "id": "yGjNeb4rztXe"
      }
    },
    {
      "cell_type": "code",
      "execution_count": 115,
      "metadata": {
        "id": "glipshNYq8E3"
      },
      "outputs": [],
      "source": [
        "## Writing my text to Summarizate it at the end.\n",
        "text = \"\"\"\n",
        "My name is Yahia, a 23-year-old mechanical engineering student study automotive engineering at Ain Shams University. As I embark on my final year, the excitement of tackling my graduation project is undeniable. It delves into the fascinating world of machine learning, specifically focusing on training a car engine. This project serves as a springboard to further enhance my expertise in machine learning and artificial intelligence, areas that hold immense potential for the future.\n",
        "\n",
        "While the academic environment fosters collaboration, I wouldn't necessarily say I have a close circle of \"engineer friends\" within the program. Just because we share the same field doesn't automatically translate into deep friendships. Everyone has unique interests and paths they're pursuing. I find valuable connections with people from diverse backgrounds, and these connections often blossom outside the classroom.\n",
        "\n",
        "I'm incredibly grateful for the unwavering support I've received throughout my journey. A huge thank you goes out to the entire Ain Shams University faculty – technical and non-technical staff alike – for being an exceptional institution. The knowledge and guidance you've provided have been instrumental in shaping my academic experience.\n",
        "\n",
        "Here's to making the most of this final year and propelling myself into the exciting world of machine learning and AI!\n",
        "\"\"\"\n",
        "\n"
      ]
    },
    {
      "cell_type": "markdown",
      "source": [
        "## 2.   Make Text Clean.     ---> perform required preprocessing"
      ],
      "metadata": {
        "id": "oul67dLQ0To3"
      }
    },
    {
      "cell_type": "code",
      "source": [
        "## importing the spacy because it is a free and open-source library\n",
        "import spacy\n",
        "from spacy.lang.en.stop_words import STOP_WORDS\n",
        "from string import punctuation\n",
        "\n",
        "# Making a clean text of my last paragraph\n",
        "stopwords = list(STOP_WORDS)\n",
        "nlp = spacy.load(\"en_core_web_sm\")\n",
        "doc = nlp(text)"
      ],
      "metadata": {
        "id": "4RZ16RuH0RHO"
      },
      "execution_count": 116,
      "outputs": []
    },
    {
      "cell_type": "markdown",
      "source": [
        "## 3.   Make Tokenization for Sentence.  ---> perform required preprocessing"
      ],
      "metadata": {
        "id": "SuHRtBtP0iTN"
      }
    },
    {
      "cell_type": "code",
      "source": [
        "tokens = [token.text for token in doc]\n",
        "print(tokens)\n",
        "\n",
        "# Preprocessing in NLP has some titles like: Tokenization - Stemming - Lemmitaziation - Regex - Part of speech - Spell correction and more of course.\n",
        "punctuation = punctuation + \"\\n\"\n",
        "punctuation\n",
        "word_frequencies = {}\n",
        "for word in doc:\n",
        "    if word.text.lower() not in stopwords and word.text.lower() not in punctuation:\n",
        "        if word.text.lower() not in word_frequencies.keys():\n",
        "            word_frequencies[word.text.lower()] = 1\n",
        "        else:\n",
        "            word_frequencies[word.text.lower()] += 1\n",
        "## printing the frequencies of words\n",
        "print(word_frequencies)"
      ],
      "metadata": {
        "colab": {
          "base_uri": "https://localhost:8080/"
        },
        "id": "YzCAisZrseYx",
        "outputId": "0ed1c2fc-7c18-43b4-d894-1ba928cf4a89"
      },
      "execution_count": 117,
      "outputs": [
        {
          "output_type": "stream",
          "name": "stdout",
          "text": [
            "['\\n', 'My', 'name', 'is', 'Yahia', ',', 'a', '23', '-', 'year', '-', 'old', 'mechanical', 'engineering', 'student', 'study', 'automotive', 'engineering', 'at', 'Ain', 'Shams', 'University', '.', 'As', 'I', 'embark', 'on', 'my', 'final', 'year', ',', 'the', 'excitement', 'of', 'tackling', 'my', 'graduation', 'project', 'is', 'undeniable', '.', 'It', 'delves', 'into', 'the', 'fascinating', 'world', 'of', 'machine', 'learning', ',', 'specifically', 'focusing', 'on', 'training', 'a', 'car', 'engine', '.', 'This', 'project', 'serves', 'as', 'a', 'springboard', 'to', 'further', 'enhance', 'my', 'expertise', 'in', 'machine', 'learning', 'and', 'artificial', 'intelligence', ',', 'areas', 'that', 'hold', 'immense', 'potential', 'for', 'the', 'future', '.', '\\n\\n', 'While', 'the', 'academic', 'environment', 'fosters', 'collaboration', ',', 'I', 'would', \"n't\", 'necessarily', 'say', 'I', 'have', 'a', 'close', 'circle', 'of', '\"', 'engineer', 'friends', '\"', 'within', 'the', 'program', '.', 'Just', 'because', 'we', 'share', 'the', 'same', 'field', 'does', \"n't\", 'automatically', 'translate', 'into', 'deep', 'friendships', '.', 'Everyone', 'has', 'unique', 'interests', 'and', 'paths', 'they', \"'re\", 'pursuing', '.', 'I', 'find', 'valuable', 'connections', 'with', 'people', 'from', 'diverse', 'backgrounds', ',', 'and', 'these', 'connections', 'often', 'blossom', 'outside', 'the', 'classroom', '.', '\\n\\n', 'I', \"'m\", 'incredibly', 'grateful', 'for', 'the', 'unwavering', 'support', 'I', \"'ve\", 'received', 'throughout', 'my', 'journey', '.', 'A', 'huge', 'thank', 'you', 'goes', 'out', 'to', 'the', 'entire', 'Ain', 'Shams', 'University', 'faculty', '–', 'technical', 'and', 'non', '-', 'technical', 'staff', 'alike', '–', 'for', 'being', 'an', 'exceptional', 'institution', '.', 'The', 'knowledge', 'and', 'guidance', 'you', \"'ve\", 'provided', 'have', 'been', 'instrumental', 'in', 'shaping', 'my', 'academic', 'experience', '.', '\\n\\n', 'Here', \"'s\", 'to', 'making', 'the', 'most', 'of', 'this', 'final', 'year', 'and', 'propelling', 'myself', 'into', 'the', 'exciting', 'world', 'of', 'machine', 'learning', 'and', 'AI', '!', '\\n']\n",
            "{'yahia': 1, '23': 1, 'year': 3, 'old': 1, 'mechanical': 1, 'engineering': 2, 'student': 1, 'study': 1, 'automotive': 1, 'ain': 2, 'shams': 2, 'university': 2, 'embark': 1, 'final': 2, 'excitement': 1, 'tackling': 1, 'graduation': 1, 'project': 2, 'undeniable': 1, 'delves': 1, 'fascinating': 1, 'world': 2, 'machine': 3, 'learning': 3, 'specifically': 1, 'focusing': 1, 'training': 1, 'car': 1, 'engine': 1, 'serves': 1, 'springboard': 1, 'enhance': 1, 'expertise': 1, 'artificial': 1, 'intelligence': 1, 'areas': 1, 'hold': 1, 'immense': 1, 'potential': 1, 'future': 1, '\\n\\n': 3, 'academic': 2, 'environment': 1, 'fosters': 1, 'collaboration': 1, 'necessarily': 1, 'close': 1, 'circle': 1, 'engineer': 1, 'friends': 1, 'program': 1, 'share': 1, 'field': 1, 'automatically': 1, 'translate': 1, 'deep': 1, 'friendships': 1, 'unique': 1, 'interests': 1, 'paths': 1, 'pursuing': 1, 'find': 1, 'valuable': 1, 'connections': 2, 'people': 1, 'diverse': 1, 'backgrounds': 1, 'blossom': 1, 'outside': 1, 'classroom': 1, 'incredibly': 1, 'grateful': 1, 'unwavering': 1, 'support': 1, 'received': 1, 'journey': 1, 'huge': 1, 'thank': 1, 'goes': 1, 'entire': 1, 'faculty': 1, '–': 2, 'technical': 2, 'non': 1, 'staff': 1, 'alike': 1, 'exceptional': 1, 'institution': 1, 'knowledge': 1, 'guidance': 1, 'provided': 1, 'instrumental': 1, 'shaping': 1, 'experience': 1, 'making': 1, 'propelling': 1, 'exciting': 1, 'ai': 1}\n"
          ]
        }
      ]
    },
    {
      "cell_type": "markdown",
      "source": [
        "## 4.   Make Tokenization for Words.   ---> perform required preprocessing"
      ],
      "metadata": {
        "id": "IstSlwGz0vuW"
      }
    },
    {
      "cell_type": "code",
      "source": [
        "# So Tokenization means to split the paragraph into sentenses and words.\n",
        "max_frequency = max(word_frequencies.values())\n",
        "for word in word_frequencies.keys():\n",
        "    word_frequencies[word] = word_frequencies[word] / max_frequency\n",
        "print(word_frequencies)\n",
        "\n",
        "sentence_tokens = [sent for sent in doc.sents]\n",
        "print(sentence_tokens)"
      ],
      "metadata": {
        "colab": {
          "base_uri": "https://localhost:8080/"
        },
        "id": "6mC5aLMUtEPh",
        "outputId": "c4566125-7d27-4fc5-9220-a43da9807d12"
      },
      "execution_count": 118,
      "outputs": [
        {
          "output_type": "stream",
          "name": "stdout",
          "text": [
            "{'yahia': 0.3333333333333333, '23': 0.3333333333333333, 'year': 1.0, 'old': 0.3333333333333333, 'mechanical': 0.3333333333333333, 'engineering': 0.6666666666666666, 'student': 0.3333333333333333, 'study': 0.3333333333333333, 'automotive': 0.3333333333333333, 'ain': 0.6666666666666666, 'shams': 0.6666666666666666, 'university': 0.6666666666666666, 'embark': 0.3333333333333333, 'final': 0.6666666666666666, 'excitement': 0.3333333333333333, 'tackling': 0.3333333333333333, 'graduation': 0.3333333333333333, 'project': 0.6666666666666666, 'undeniable': 0.3333333333333333, 'delves': 0.3333333333333333, 'fascinating': 0.3333333333333333, 'world': 0.6666666666666666, 'machine': 1.0, 'learning': 1.0, 'specifically': 0.3333333333333333, 'focusing': 0.3333333333333333, 'training': 0.3333333333333333, 'car': 0.3333333333333333, 'engine': 0.3333333333333333, 'serves': 0.3333333333333333, 'springboard': 0.3333333333333333, 'enhance': 0.3333333333333333, 'expertise': 0.3333333333333333, 'artificial': 0.3333333333333333, 'intelligence': 0.3333333333333333, 'areas': 0.3333333333333333, 'hold': 0.3333333333333333, 'immense': 0.3333333333333333, 'potential': 0.3333333333333333, 'future': 0.3333333333333333, '\\n\\n': 1.0, 'academic': 0.6666666666666666, 'environment': 0.3333333333333333, 'fosters': 0.3333333333333333, 'collaboration': 0.3333333333333333, 'necessarily': 0.3333333333333333, 'close': 0.3333333333333333, 'circle': 0.3333333333333333, 'engineer': 0.3333333333333333, 'friends': 0.3333333333333333, 'program': 0.3333333333333333, 'share': 0.3333333333333333, 'field': 0.3333333333333333, 'automatically': 0.3333333333333333, 'translate': 0.3333333333333333, 'deep': 0.3333333333333333, 'friendships': 0.3333333333333333, 'unique': 0.3333333333333333, 'interests': 0.3333333333333333, 'paths': 0.3333333333333333, 'pursuing': 0.3333333333333333, 'find': 0.3333333333333333, 'valuable': 0.3333333333333333, 'connections': 0.6666666666666666, 'people': 0.3333333333333333, 'diverse': 0.3333333333333333, 'backgrounds': 0.3333333333333333, 'blossom': 0.3333333333333333, 'outside': 0.3333333333333333, 'classroom': 0.3333333333333333, 'incredibly': 0.3333333333333333, 'grateful': 0.3333333333333333, 'unwavering': 0.3333333333333333, 'support': 0.3333333333333333, 'received': 0.3333333333333333, 'journey': 0.3333333333333333, 'huge': 0.3333333333333333, 'thank': 0.3333333333333333, 'goes': 0.3333333333333333, 'entire': 0.3333333333333333, 'faculty': 0.3333333333333333, '–': 0.6666666666666666, 'technical': 0.6666666666666666, 'non': 0.3333333333333333, 'staff': 0.3333333333333333, 'alike': 0.3333333333333333, 'exceptional': 0.3333333333333333, 'institution': 0.3333333333333333, 'knowledge': 0.3333333333333333, 'guidance': 0.3333333333333333, 'provided': 0.3333333333333333, 'instrumental': 0.3333333333333333, 'shaping': 0.3333333333333333, 'experience': 0.3333333333333333, 'making': 0.3333333333333333, 'propelling': 0.3333333333333333, 'exciting': 0.3333333333333333, 'ai': 0.3333333333333333}\n",
            "[\n",
            ", My name is Yahia, a 23-year-old mechanical engineering student study automotive engineering at Ain Shams University., As I embark on my final year, the excitement of tackling my graduation project is undeniable., It delves into the fascinating world of machine learning, specifically focusing on training a car engine., This project serves as a springboard to further enhance my expertise in machine learning and artificial intelligence, areas that hold immense potential for the future.\n",
            "\n",
            ", While the academic environment fosters collaboration, I wouldn't necessarily say I have a close circle of \"engineer friends\" within the program., Just because we share the same field doesn't automatically translate into deep friendships., Everyone has unique interests and paths they're pursuing., I find valuable connections with people from diverse backgrounds, and these connections often blossom outside the classroom.\n",
            "\n",
            ", I'm incredibly grateful for the unwavering support I've received throughout my journey., A huge thank you goes out to the entire Ain Shams University faculty – technical and non-technical staff alike – for being an exceptional institution., The knowledge and guidance you've provided have been instrumental in shaping my academic experience.\n",
            "\n",
            ", Here's to making the most of this final year and propelling myself into the exciting world of machine learning and AI!\n",
            "]\n"
          ]
        }
      ]
    },
    {
      "cell_type": "markdown",
      "source": [
        "## 5. Make The Word-frequency table.     ---> Encoding"
      ],
      "metadata": {
        "id": "-3Ngx9ME1PLG"
      }
    },
    {
      "cell_type": "code",
      "source": [
        "## After making \"preprocessing\" it is the turn for \"Encoding\" or \"text representative\".\n",
        "sentence_scores = {}\n",
        "for sent in sentence_tokens:\n",
        "    for word in sent:\n",
        "        if word.text.lower() in word_frequencies.keys():\n",
        "            if sent not in sentence_scores.keys():\n",
        "                sentence_scores[sent] = word_frequencies[word.text.lower()]\n",
        "            else:\n",
        "                sentence_scores[sent] += word_frequencies[word.text.lower()]\n",
        "sentence_scores"
      ],
      "metadata": {
        "colab": {
          "base_uri": "https://localhost:8080/"
        },
        "id": "-l9X74yBtHnm",
        "outputId": "24f4fb2f-d905-4bef-cff2-a83aa3b69909"
      },
      "execution_count": 119,
      "outputs": [
        {
          "output_type": "execute_result",
          "data": {
            "text/plain": [
              "{My name is Yahia, a 23-year-old mechanical engineering student study automotive engineering at Ain Shams University.: 6.666666666666668,\n",
              " As I embark on my final year, the excitement of tackling my graduation project is undeniable.: 4.0,\n",
              " It delves into the fascinating world of machine learning, specifically focusing on training a car engine.: 4.999999999999999,\n",
              " This project serves as a springboard to further enhance my expertise in machine learning and artificial intelligence, areas that hold immense potential for the future.\n",
              " : 7.333333333333331,\n",
              " While the academic environment fosters collaboration, I wouldn't necessarily say I have a close circle of \"engineer friends\" within the program.: 3.666666666666667,\n",
              " Just because we share the same field doesn't automatically translate into deep friendships.: 1.9999999999999998,\n",
              " Everyone has unique interests and paths they're pursuing.: 1.3333333333333333,\n",
              " I find valuable connections with people from diverse backgrounds, and these connections often blossom outside the classroom.\n",
              " : 5.0,\n",
              " I'm incredibly grateful for the unwavering support I've received throughout my journey.: 1.9999999999999998,\n",
              " A huge thank you goes out to the entire Ain Shams University faculty – technical and non-technical staff alike – for being an exceptional institution.: 7.999999999999999,\n",
              " The knowledge and guidance you've provided have been instrumental in shaping my academic experience.\n",
              " : 3.6666666666666665,\n",
              " Here's to making the most of this final year and propelling myself into the exciting world of machine learning and AI!: 5.666666666666667}"
            ]
          },
          "metadata": {},
          "execution_count": 119
        }
      ]
    },
    {
      "cell_type": "markdown",
      "source": [
        "## 6. Make Summarization.  --> Build the model"
      ],
      "metadata": {
        "id": "xhq4KWSa1das"
      }
    },
    {
      "cell_type": "code",
      "source": [
        "## Building the model that summarize the text that I have written above.\n",
        "from heapq import nlargest\n",
        "select_length = int(len(sentence_tokens)*0.3)\n",
        "select_length\n",
        "summary = nlargest(select_length, sentence_scores, key = sentence_scores.get)\n",
        "## summary ##\n",
        "final_summary = [word.text for word in summary]\n",
        "summary = \"\" \"\".join(final_summary)\n"
      ],
      "metadata": {
        "id": "wx76PuEEtKWB"
      },
      "execution_count": 120,
      "outputs": []
    },
    {
      "cell_type": "markdown",
      "source": [
        "## 7. Tune the parameters"
      ],
      "metadata": {
        "id": "-XNqjxiM6Ph0"
      }
    },
    {
      "cell_type": "code",
      "source": [
        "import numpy as np\n",
        "from sklearn.feature_extraction.text import TfidfVectorizer\n",
        "from sklearn.decomposition import TruncatedSVD\n",
        "from sklearn.ensemble import RandomForestClassifier\n",
        "from sklearn.pipeline import Pipeline\n",
        "from sklearn.model_selection import GridSearchCV\n",
        "\n",
        "\n",
        "# make some new texts so I can make a tuning\n",
        "text2 = \"\"\"\n",
        "In this text I would say another text so I can make a tuning so again My name is yahia I'm 23 years old I'm an engineer in Ainshams university and I study mechanical engineering and particularly automotive engineering I'm in the fourth year so I'm making the graduation project this year and it is about guess what, it is about machine learning as I train a car engine so I take this diploma to improve my skills in machine learning and AI field and do my best.\n",
        "I want also to thank every one: technical support, non technical or instructors you are amazing institution and I have learned a lot from you so thanks. \"\"\"\n",
        "text3 = \"\"\" and again lets say another text that I'm an engineer and I love the machine learning field.\n",
        "            I read alot about AI, it is my passion so I take this diploma to improve my knoledge about it and I study now embedded systems to as they appear alot in cars and as I said I'm an automotive engineer so I should know about them\n",
        "\n",
        "\"\"\"\n",
        "\n",
        "documents = [text, text2, text3]\n",
        "\n",
        "vectorizer = TfidfVectorizer()\n",
        "X_tfidf = vectorizer.fit_transform(documents)\n",
        "print(\"Number of features:\", X_tfidf.shape[1])\n",
        "\n",
        "# Define the pipeline with text processing steps\n",
        "pipeline = Pipeline([\n",
        "    ('tfidf', TfidfVectorizer()),\n",
        "    ('lsa', TruncatedSVD(n_components=50)),  # Assuming fixed value for n_components (adjust as needed)\n",
        "    ('clf', RandomForestClassifier())  # Classifier for summarization (might not be suitable)\n",
        "])\n",
        "\n",
        "# Define the parameter grid (adjusted n_components based on feature dimensionality)\n",
        "param_grid = {\n",
        "    'tfidf__max_df': [0.8, 0.9, 1.0],\n",
        "    'lsa__n_components': [10, 20, 50],  # Adjust n_components values based on your analysis\n",
        "    'clf__n_estimators': [100, 200, 300],\n",
        "    'clf__max_depth': [None, 5, 10],\n",
        "    'clf__min_samples_split': [2, 5, 10]\n",
        "}\n",
        "\n",
        "# Creating the GridSearchCV object\n",
        "grid_search = GridSearchCV(pipeline, param_grid, cv=3, scoring='accuracy')  # Consider using ROUGE scores\n",
        "\n",
        "# Fit the GridSearchCV with a compatible number of folds\n",
        "grid_search.fit(documents, [1] * len(documents))  # Use [1] as labels for all documents (might not be suitable for summarization)\n",
        "\n",
        "# And Printing the results of course\n",
        "print(\"Best Parameters: \", grid_search.best_params_)\n",
        "print(\"Best Score: \", grid_search.best_score_)"
      ],
      "metadata": {
        "colab": {
          "base_uri": "https://localhost:8080/"
        },
        "id": "xUP5YeAK6QJ5",
        "outputId": "2c73188e-55e5-4190-8ed2-ac5bdcd8c479"
      },
      "execution_count": 121,
      "outputs": [
        {
          "output_type": "stream",
          "name": "stdout",
          "text": [
            "Number of features: 189\n",
            "Best Parameters:  {'clf__max_depth': None, 'clf__min_samples_split': 2, 'clf__n_estimators': 100, 'lsa__n_components': 10, 'tfidf__max_df': 0.8}\n",
            "Best Score:  1.0\n"
          ]
        }
      ]
    },
    {
      "cell_type": "markdown",
      "source": [
        "## 8. Make Evaluation of the model  --> Evaluate The model"
      ],
      "metadata": {
        "id": "aGCJzdW14zz8"
      }
    },
    {
      "cell_type": "code",
      "source": [
        "# Sort the sentence_scores dictionary based on the scores in descending order\n",
        "sorted_scores = sorted(sentence_scores.items(), key=lambda x: x[1], reverse=True)\n",
        "\n",
        "# This Print the top N sentences with their scores\n",
        "top_n = 5  # And this is the number of top sentences to consider\n",
        "for i in range(top_n):\n",
        "    sentence = sorted_scores[i][0]\n",
        "    score = sorted_scores[i][1]\n",
        "    print(f\"Sentence: {sentence}\")\n",
        "    print(f\"Score: {score}\")\n",
        "    print()\n",
        "\n",
        "# I Calculated the average sentence score\n",
        "total_scores = sum(sentence_scores.values())\n",
        "average_score = total_scores / len(sentence_scores)\n",
        "print(f\"Average Score: {average_score}\")"
      ],
      "metadata": {
        "colab": {
          "base_uri": "https://localhost:8080/"
        },
        "id": "A1y9jWPP405u",
        "outputId": "8caf0893-ce7b-4ae6-d746-bc9f5b600675"
      },
      "execution_count": 122,
      "outputs": [
        {
          "output_type": "stream",
          "name": "stdout",
          "text": [
            "Sentence: A huge thank you goes out to the entire Ain Shams University faculty – technical and non-technical staff alike – for being an exceptional institution.\n",
            "Score: 7.999999999999999\n",
            "\n",
            "Sentence: This project serves as a springboard to further enhance my expertise in machine learning and artificial intelligence, areas that hold immense potential for the future.\n",
            "\n",
            "\n",
            "Score: 7.333333333333331\n",
            "\n",
            "Sentence: My name is Yahia, a 23-year-old mechanical engineering student study automotive engineering at Ain Shams University.\n",
            "Score: 6.666666666666668\n",
            "\n",
            "Sentence: Here's to making the most of this final year and propelling myself into the exciting world of machine learning and AI!\n",
            "\n",
            "Score: 5.666666666666667\n",
            "\n",
            "Sentence: I find valuable connections with people from diverse backgrounds, and these connections often blossom outside the classroom.\n",
            "\n",
            "\n",
            "Score: 5.0\n",
            "\n",
            "Average Score: 4.527777777777778\n"
          ]
        }
      ]
    },
    {
      "cell_type": "markdown",
      "source": [
        "## 9. Last Step printing the summary of my text."
      ],
      "metadata": {
        "id": "dnRhc7ux1wnF"
      }
    },
    {
      "cell_type": "code",
      "source": [
        "#Finally I have printed the summary of the first text in the first cell.\n",
        "print(summary)"
      ],
      "metadata": {
        "colab": {
          "base_uri": "https://localhost:8080/"
        },
        "id": "0rLGFkQCtgwr",
        "outputId": "8e531855-254e-48e2-902e-2a3d16bc0ad1"
      },
      "execution_count": 123,
      "outputs": [
        {
          "output_type": "stream",
          "name": "stdout",
          "text": [
            "A huge thank you goes out to the entire Ain Shams University faculty – technical and non-technical staff alike – for being an exceptional institution.This project serves as a springboard to further enhance my expertise in machine learning and artificial intelligence, areas that hold immense potential for the future.\n",
            "\n",
            "My name is Yahia, a 23-year-old mechanical engineering student study automotive engineering at Ain Shams University.\n"
          ]
        }
      ]
    },
    {
      "cell_type": "markdown",
      "source": [
        "# **Thanks** alot for this **amazing diploma** it was very useful\n",
        "## ------------------------------------------------ The End ------------------------------------------------"
      ],
      "metadata": {
        "id": "gnJjYQ15L5b6"
      }
    }
  ]
}